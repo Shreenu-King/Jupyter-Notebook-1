{
  "metadata": {
    "language_info": {
      "codemirror_mode": {
        "name": "python",
        "version": 3
      },
      "file_extension": ".py",
      "mimetype": "text/x-python",
      "name": "python",
      "nbconvert_exporter": "python",
      "pygments_lexer": "ipython3",
      "version": "3.8"
    },
    "kernelspec": {
      "name": "python",
      "display_name": "Pyolite",
      "language": "python"
    }
  },
  "nbformat_minor": 4,
  "nbformat": 4,
  "cells": [
    {
      "cell_type": "markdown",
      "source": "# My Jupyter Notebook on IBM Watson Studio",
      "metadata": {}
    },
    {
      "cell_type": "markdown",
      "source": "SHREENU KING\nData Analyst",
      "metadata": {}
    },
    {
      "cell_type": "markdown",
      "source": "*Interested in data analysis to use variable relationships and patterns to answer business questions",
      "metadata": {}
    },
    {
      "cell_type": "markdown",
      "source": "### The following code finds the sum of two digits",
      "metadata": {}
    },
    {
      "cell_type": "code",
      "source": "6+7",
      "metadata": {
        "trusted": true
      },
      "execution_count": 4,
      "outputs": [
        {
          "execution_count": 4,
          "output_type": "execute_result",
          "data": {
            "text/plain": "13"
          },
          "metadata": {}
        }
      ]
    },
    {
      "cell_type": "markdown",
      "source": "1. Main list 1\n2. Main list 2\n  -  Sub list 2-1\n  -  Sub list 2-2\n3. Main list 3",
      "metadata": {}
    },
    {
      "cell_type": "code",
      "source": "",
      "metadata": {},
      "execution_count": null,
      "outputs": []
    }
  ]
}